{
 "cells": [
  {
   "cell_type": "code",
   "execution_count": null,
   "id": "7b3d511c",
   "metadata": {},
   "outputs": [],
   "source": [
    "import random\n",
    "import time\n",
    "import pandas as pd\n",
    "import networkx as nx  \n",
    "import collections  \n",
    "import matplotlib.pyplot as plt  \n",
    "import numpy as np\n",
    "import scipy.sparse.linalg as linalg"
   ]
  },
  {
   "cell_type": "code",
   "execution_count": null,
   "id": "2f448035",
   "metadata": {},
   "outputs": [],
   "source": [
    "G = nx.read_edgelist('datasets/actor.edgelist.txt')\n",
    "print(G)"
   ]
  },
  {
   "cell_type": "markdown",
   "id": "3dad9562",
   "metadata": {},
   "source": [
    "### A. Tamanho da Rede\n",
    "O NetworkX oferece funções diretas para obter o número de nós: G.number\\_of\\_nodes() ou, de forma mais concisa, len(G).\n",
    "\n",
    "N nós."
   ]
  },
  {
   "cell_type": "code",
   "execution_count": null,
   "id": "98b47796",
   "metadata": {},
   "outputs": [],
   "source": [
    "num_nodes = G.number_of_nodes()  \n",
    "print(f\"Tamanho da Rede (Número de Nós): {num_nodes} nós\")\n"
   ]
  },
  {
   "cell_type": "markdown",
   "id": "3b731fca",
   "metadata": {},
   "source": [
    "### B. Número de Links (Arestas)\n",
    "\n",
    "O NetworkX fornece a função G.number\\_of\\_edges() para obter o número total de arestas. \n",
    "Alternativamente, o método G.size() oferece um resultado idêntico.\n",
    "\n",
    "M links."
   ]
  },
  {
   "cell_type": "code",
   "execution_count": null,
   "id": "f7a25cea",
   "metadata": {},
   "outputs": [],
   "source": [
    "num_edges = G.number_of_edges()  \n",
    "print(f\"Número de Links (Arestas): {num_edges} links\")"
   ]
  },
  {
   "cell_type": "markdown",
   "id": "564ec7c5",
   "metadata": {},
   "source": [
    "### C. Grau Médio (Average Degree)\n",
    "\n",
    "O grau médio, ⟨k⟩, é a média do número de conexões por nó na rede, oferecendo um resumo conciso do nível de conectividade geral da rede.\n",
    "\n",
    "Para redes não direcionadas, o grau médio é calculado como 2M/N, uma vez que cada aresta contribui para o grau de dois nós, ou simplesmente como a soma de todos os graus dividida pelo número de nós.\n",
    "\n",
    "Em redes direcionadas, o grau médio de entrada (in-degree), o grau médio de saída (out-degree) e o grau total médio são matematicamente equivalentes a M/N\n",
    "\n",
    "* Cálculo do grau médio para um grafo não direcionado  \n",
    "* Verifica de o grafo é direcionado G.is_directed()\n",
    "* Para grafos direcionados, o cálculo seria G.number_of_edges() / G.number_of_nodes()  \n",
    "* Para grafos não direcionados, o cálculo seria (2 * G.number_of_edges()) / G.number_of_nodes()  "
   ]
  },
  {
   "cell_type": "code",
   "execution_count": null,
   "id": "76a1f26d",
   "metadata": {},
   "outputs": [],
   "source": [
    "# Cálculo do grau médio para um grafo não direcionado  \n",
    "# Para grafos direcionados, o cálculo seria G.number_of_edges() / G.number_of_nodes()  \n",
    "if G.is_directed():  \n",
    "    avg_degree = G.number_of_edges() / G.number_of_nodes()  \n",
    "    print(f\"Grau Médio (Rede Direcionada): {avg_degree:.2f} passos\")  \n",
    "else:  \n",
    "    avg_degree = (2 * G.number_of_edges()) / G.number_of_nodes()  \n",
    "    print(f\"Grau Médio (Rede Não Direcionada): {avg_degree:.2f} passos\")"
   ]
  },
  {
   "cell_type": "markdown",
   "id": "69c0bda8",
   "metadata": {},
   "source": [
    "### D. Distribuição de Graus (Degree Distribution)\n",
    "\n",
    "A distribuição de graus, P(k), quantifica a probabilidade de um nó selecionado aleatoriamente na rede ter exatamente k conexões.\n",
    "\n",
    "Metodologia de Cálculo e Visualização:  \n",
    "\n",
    "O processo de cálculo envolve primeiro a obtenção do grau (ou in-degree/out-degree para grafos direcionados) de cada nó na rede. Em seguida, a frequência de cada valor de grau único é contada para construir a distribuição.\n",
    "\n",
    "#### Código\n",
    "\n",
    "##### Montagem dados para gráfico\n",
    "\n",
    "* Calcula e organiza os dados de graus do seu grafo, \n",
    "  * obtém uma lista de pares (nó, grau) para cada nó no grafo,  \n",
    "  * que extrai apenas o valor do grau (d) de cada par, \n",
    "  * Ordena essa lista de graus em ordem decrescente. \n",
    "  * O resultado é uma lista chamada degree_sequence que contém os graus de todos os nós do grafo, do maior para o menor.\n",
    "* A classe **collections.Counter** é uma maneira de contar a frequência de itens em uma lista.\n",
    "  * Cria um dicionário onde as chaves são os graus (k) e os valores são o número de nós que têm esse grau. Ex.: se 10 nós têm grau 3, o dicionário terá a entrada {3: 10}\n",
    "* Gerando duas tuplas com os graus unicos, e das contagens corespondentes.\n",
    "  * Descompacta o dicionário com '*' pegando os items de gedree_counts, e a função zip gerando uma lista de tuplas com grau (deg) e contagem(cnt).\n",
    "\n",
    "##### Preparando dados\n",
    "\n",
    "* Seleciona apenas as contagens que são maiores que zero. Isso evita erros de cálculo.\n",
    "\n",
    "##### Historograma\n",
    "* Este histograma mostra quantos nós existem para cada grau possível no grafo.\n",
    "\n",
    "##### Distribuição\n",
    "* O principal objetivo é identificar a distribuição de graus por número de nós.\n"
   ]
  },
  {
   "cell_type": "code",
   "execution_count": null,
   "id": "4ab7911b",
   "metadata": {},
   "outputs": [],
   "source": [
    "# Monata uma lista com os graus dos nós em ordem decrescente.\n",
    "\n",
    "degree_sequence = sorted([d for n, d in G.degree()], reverse=True)\n",
    "degree_counts = collections.Counter(degree_sequence)  \n",
    "deg, cnt = zip(*degree_counts.items())\n",
    "\n",
    "# Filtrar contagens zero para o gráfico log-log (logaritmo de zero é indefinido)  \n",
    "positive_cnt_indices = np.array(cnt) > 0  \n",
    "logx = np.log10(np.array(deg)[positive_cnt_indices])  \n",
    "logy = np.log10(np.array(cnt)[positive_cnt_indices])\n",
    "\n",
    "# Histogram Plot  \n",
    "plt.figure(figsize=(10, 6))  \n",
    "plt.bar(deg, cnt, width=0.8, color='b')  \n",
    "plt.title(\"Histograma da Distribuição de Graus\")  \n",
    "plt.xlabel(\"Grau (k)\")  \n",
    "plt.ylabel(\"Número de Nós\")  \n",
    "plt.show()\n",
    "\n",
    "# Log-Log Plot  \n",
    "plt.figure(figsize=(10, 6))  \n",
    "plt.plot(logx, logy, 'o', color='r', alpha=0.7)  \n",
    "plt.title(\"Distribuição de Graus (Escala Log-Log)\")  \n",
    "plt.xlabel(\"log10(Grau)\")  \n",
    "plt.ylabel(\"log10(Número de Nós)\")  \n",
    "plt.grid(True, which=\"both\", ls=\"-\", alpha=0.2)  \n",
    "plt.show()"
   ]
  },
  {
   "cell_type": "markdown",
   "id": "332f365c",
   "metadata": {},
   "source": [
    "### E. Média das Distâncias entre Pares (Average Shortest Path Length)\n",
    "\n",
    "A média das distâncias entre pares (ASPL), denotada como ⟨L⟩, é definida como o número médio de passos (arestas) ao longo dos caminhos mais curtos para todos os pares possíveis de nós na rede. Serve como uma medida crucial da eficiência da rede no transporte de informações ou massa. Um ASPL menor geralmente indica uma rede mais eficiente, interconectada e facilmente navegável, onde a informação pode viajar rapidamente entre quaisquer dois pontos.\n",
    "\n",
    "#### Código\n",
    "\n",
    "* A função media_distancias_entre_pares calcula a média das distâncias de caminho mais curto entre todos os pares de nós em um grafo. Ela foi projetada para lidar com dois cenários: quando o grafo é conectado e quando ele é desconectado.\n",
    "  * Grafo Conectado\n",
    "    * calcula direto utilizando a função nx.average_shortest_path_length()\n",
    "\n",
    "  * Grafo Desconectado\n",
    "    * Como não é possível calcular a distância entre nós que não estão no mesmo componente, é calculado o maior componente conectado.\n",
    "    * Faz o calculo da função nx.average_shortest_path_length() com o maior componente conectado.\n",
    "\n"
   ]
  },
  {
   "cell_type": "code",
   "execution_count": null,
   "id": "2c3f1ba5",
   "metadata": {},
   "outputs": [],
   "source": [
    "def media_distancias_entre_pares(lcc_):\n",
    "    \"\"\"Média das Distâncias entre Pares\"\"\"\n",
    "\n",
    "    if nx.is_connected(lcc_):        \n",
    "        print(\"A rede é conectada.\")\n",
    "        avg_path_length_estimate = nx.average_shortest_path_length(lcc_)   \n",
    "        return print(f\"Média das Distâncias entre Pares: {avg_path_length_estimate:.2f} passos\")  \n",
    "    else:  \n",
    "        print(\"A rede é desconectada.\")        \n",
    "        componentes = nx.connected_components(lcc_)\n",
    "        maior_comp_nodes = max(componentes, key=len)\n",
    "        \n",
    "        print('Cria um subgrafo com o MAX correspondente para analise')\n",
    "        componente_maior = lcc_.subgraph(maior_comp_nodes).copy()\n",
    "        \n",
    "        print(f\"Novo subgrafo criado com {componente_maior.number_of_nodes()} nós e {componente_maior.number_of_edges()} arestas.\")\n",
    "        avg_path_length_estimate = nx.average_shortest_path_length(componente_maior)\n",
    "        return print(f\"Média das Distâncias entre Pares: {avg_path_length_estimate:.2f} passos\")"
   ]
  },
  {
   "cell_type": "markdown",
   "id": "9ee2661a",
   "metadata": {},
   "source": [
    "### Amostragem\n",
    "\n",
    "* É criado um subgrado com 20% do grafo original, como amostragem, para diminuir o tempo de processamento da função media_distancias_entre_pares.\n",
    "\n",
    "  * Criar o subgrafo a partir da lista de nós\n",
    "    * Usar .copy() para ter um grafo independente\n",
    "  * Criando amostragem 20% dos Nós do LCC\n",
    "    * Pega a lista de todos os nós que estão no LCC\n",
    "    * Calcula quantos nós correspondem a 20% do LCC\n",
    "    * Usamos int() para garantir que o resultado seja um número inteiro\n",
    "    * Seleciona aleatoriamente 'num_nodes_to_sample' nós da lista, sem reposição\n",
    "  * Criar o Subgrafo Final com os 20% dos Nós\n",
    "    * Cria o subgrafo final a partir do LCC, usando apenas os nós amostrados\n",
    "    * Este novo grafo conterá os nós amostrados e TODAS as arestas que existiam ENTRE ELES no LCC"
   ]
  },
  {
   "cell_type": "code",
   "execution_count": null,
   "id": "ed5590ed",
   "metadata": {},
   "outputs": [],
   "source": [
    "lcc_nodes = list(max(nx.connected_components(G), key=len)) \n",
    "\n",
    "# Criando Subgrafo \n",
    "\n",
    "LCC_subgraph = G.subgraph(lcc_nodes).copy() \n",
    "print(f\"Número de nós no grafo original (G): {G.number_of_nodes()}\")\n",
    "print(f\"Número de nós no Maior Componente Conectado (LCC): {LCC_subgraph.number_of_nodes()}\")\n",
    "print(\"-\" * 30)\n",
    "\n",
    "# Criando Amostragem \n",
    "\n",
    "lcc_node_list = list(LCC_subgraph.nodes())\n",
    "num_nodes_to_sample = int(LCC_subgraph.number_of_nodes() * 0.20)\n",
    "sampled_nodes = random.sample(lcc_node_list, k=num_nodes_to_sample)\n",
    "print(f\"Vamos amostrar 20% do LCC, o que corresponde a {num_nodes_to_sample} nós.\")\n",
    "print(\"-\" * 30)\n",
    "\n",
    "# Subgrafo Final com os 20% dos Nós\n",
    "\n",
    "LCC_20_percent = LCC_subgraph.subgraph(sampled_nodes).copy()\n",
    "print(f\"Novo subgrafo criado com {LCC_20_percent.number_of_nodes()} nós e {LCC_20_percent.number_of_edges()} arestas.\")\n",
    "\n",
    "inicio_par = time.time()\n",
    "\n",
    "media_distancias_entre_pares(LCC_20_percent)\n",
    "fim_par = time.time()\n",
    "print(f\"Tempo de execução paralela: {(fim_par - inicio_par)/60:.4f} minutos\")"
   ]
  },
  {
   "cell_type": "markdown",
   "id": "db74e586",
   "metadata": {},
   "source": [
    "### F. Diâmetro da Rede (Diameter)\n",
    "\n",
    "O diâmetro de uma rede é definido como o caminho mais curto mais longo entre quaisquer dois nós na rede. Ele representa a separação máxima ou a \"distância\" que a informação ou influência deve percorrer dentro da rede. É uma métrica crítica para entender a compactação geral da rede, sua eficiência e potenciais gargalos. Um diâmetro menor geralmente indica uma rede mais interconectada e eficiente."
   ]
  },
  {
   "cell_type": "code",
   "execution_count": null,
   "id": "417ca19b",
   "metadata": {},
   "outputs": [],
   "source": [
    "lcc_ = nx.subgraph(G, lcc_nodes)\n",
    "\n",
    "def diametro(lcc_):\n",
    "    \"\"\"Média das Distâncias entre Pares\"\"\"\n",
    "\n",
    "    if nx.is_connected(lcc_):        \n",
    "        print(\"A rede é conectada.\")\n",
    "        diam_estimate = nx.diameter(lcc_)\n",
    "        return print(f\"Estimativa do Diâmetro da Rede: {diam_estimate:.2f}\")  \n",
    "    else:  \n",
    "        print(\"A rede é desconectada. O diâmetro é indefinido para a rede completa. Calculando para o maior componente conectado.\")  \n",
    "        largest_cc = max(nx.connected_components(lcc_), key=len)  \n",
    "        subgraph_lcc = lcc_.subgraph(largest_cc).copy()  \n",
    "        if len(subgraph_lcc) > 1:  \n",
    "            diameter_lcc = nx.diameter(subgraph_lcc)  \n",
    "            print(f\"  Diâmetro do Maior Componente Conectado (N={len(subgraph_lcc)}): {diameter_lcc} passos\")  \n",
    "        else:  \n",
    "            print(\"O maior componente conectado possui apenas um nó; diâmetro não aplicável.\")\n",
    "       \n",
    "\n",
    "print(diametro(LCC_20_percent))"
   ]
  },
  {
   "cell_type": "markdown",
   "id": "5bb7036a",
   "metadata": {},
   "source": [
    "### G. Escolher uma rede das 10 redes empiricas e calcular a centradilidade dos nodos usando: Autovetor, Katz, PageRank, Betwenness. Calcular a media delas assim como plotar o histograma.\n",
    "\n",
    "* Escolhida a rede phonecalls\n",
    "\n",
    "#### Centradilidade Autovetor.\n",
    "\n",
    "Mede a influência de um vertice na rede. atravez de dois fatores:\n",
    "\n",
    "* Seu grau \n",
    "* Importância dos seus vizinhos."
   ]
  },
  {
   "cell_type": "code",
   "execution_count": null,
   "id": "777cae83",
   "metadata": {},
   "outputs": [],
   "source": [
    "eigenvector_centrality = nx.eigenvector_centrality(lcc_)"
   ]
  },
  {
   "cell_type": "markdown",
   "id": "e36b4837",
   "metadata": {},
   "source": [
    "### Centradilidade Katz.\n",
    "\n",
    "Tem o mesmo principio do autovetor, porem, a diferença é que, inicialmente, defini-se uma pequena quantidade de centralidade para cada vértice da rede.\n",
    "\n",
    "Apresentou o segunte erro:\n",
    "\n",
    "erro: (PowerIterationFailedConvergence(...), 'power iteration failed to converge within 100 iterations')\n",
    "\n",
    "Aprendido: A centralidade de Katz não é calculada com uma fórmula simples e direta. Em vez disso, ela é encontrada usando um processo iterativo chamado Iteração de Potência (Power Iteration). O algoritmo começa com uma estimativa inicial para os scores de centralidade e refina essa estimativa repetidamente a cada passo (ou \"iteração\"). Ele para quando os scores mudam muito pouco entre uma iteração e a seguinte (o que significa que eles \"convergiram\" para uma solução).\n",
    "\n",
    "#### Código\n",
    "\n",
    "Solucionando erro **power iteration failed to converge** definindo um alpha menor que já que o valor padrão de 1 não atendeu e apresentou esse erro.\n",
    "\n",
    "* Obtenha a matriz de adjacência em um formato que o SciPy\n",
    "  * Use to_scipy_sparse_array para versões mais novas do NetworkX\n",
    "* Calcule o maior autovalor (raio espectral)\n",
    "  * k=1 significa que queremos o maior. 'LM' significa 'Largest Magnitude' (maior magnitude).\n",
    "  * O resultado é um array, então pegamos o primeiro elemento.\n",
    "  * Usamos a parte real para evitar pequenos componentes e problemas de precisão numérica.\n",
    "* Definindo o alpha\n",
    "  * um pouco menor que seu máximo teórico\n",
    "  * Usando 99% do valor máximo por segurança\n"
   ]
  },
  {
   "cell_type": "code",
   "execution_count": null,
   "id": "95fbb6ee",
   "metadata": {},
   "outputs": [],
   "source": [
    "# Obtenha a matriz de adjacência em um formato que o SciPy\n",
    "\n",
    "A = nx.to_scipy_sparse_array(lcc_, nodelist=lcc_.nodes())\n",
    "\n",
    "# Calculo do maior autovalor (raio espectral)\n",
    "\n",
    "raio_espectral = np.real(linalg.eigs(A, k=1, which='LM')[0][0])\n",
    "\n",
    "# O alpha\n",
    "\n",
    "alpha = (1 / raio_espectral) * 0.99  \n",
    "print(f\"Raio Espectral Calculado: {raio_espectral:.4f}\")\n",
    "print(f\"Alpha seguro para usar: {alpha:.4f}\")\n",
    "\n",
    "# 4. Rode novamente a centralidade de Katz com o alpha calculado para maixo de 1000 iterações.\n",
    "\n",
    "katz_centrality = nx.katz_centrality(lcc_, alpha=alpha, max_iter=1000) \n"
   ]
  },
  {
   "cell_type": "markdown",
   "id": "d6efe840",
   "metadata": {},
   "source": [
    "### Centradilidade PageRank."
   ]
  },
  {
   "cell_type": "code",
   "execution_count": null,
   "id": "f0fa82d4",
   "metadata": {},
   "outputs": [],
   "source": [
    "pagerank_centrality = nx.pagerank(lcc_)"
   ]
  },
  {
   "cell_type": "markdown",
   "id": "39a69a32",
   "metadata": {},
   "source": [
    "### Centradilidade Betwenness."
   ]
  },
  {
   "cell_type": "code",
   "execution_count": null,
   "id": "fe920351",
   "metadata": {},
   "outputs": [],
   "source": [
    "betweenness_centrality = nx.betweenness_centrality(lcc_, k=100)"
   ]
  },
  {
   "cell_type": "markdown",
   "id": "b4a9657e",
   "metadata": {},
   "source": [
    "### Visualização e Organização dos dados das Centralidades\n",
    "\n",
    "* Organização dos Dados e Cálculo da Média\n",
    "  * Criando um DataFrame do pandas para melhor visualização e manipulação\n",
    "  * Calculando a média das quatro medidas de centralidade para cada nodo\n",
    "  * Ordenando os resultados pela média para facilitar a interpretação\n",
    "    * Arredondando para 4 casas decimais\n",
    "    * imprimindo o head do dataframe"
   ]
  },
  {
   "cell_type": "code",
   "execution_count": null,
   "id": "8a88f6da",
   "metadata": {},
   "outputs": [],
   "source": [
    "# Criando um DataFrame do pandas\n",
    "\n",
    "df_centrality = pd.DataFrame({\n",
    "    'Autovetor': pd.Series(eigenvector_centrality),\n",
    "    'Katz': pd.Series(katz_centrality),\n",
    "    'PageRank': pd.Series(pagerank_centrality),\n",
    "    'Betweenness': pd.Series(betweenness_centrality)\n",
    "})\n",
    "\n",
    "# Calculando a média\n",
    "df_centrality['Média'] = df_centrality.mean(axis=1)\n",
    "\n",
    "# Ordenando os resultados\n",
    "df_centrality_sorted = df_centrality.sort_values(by='Média', ascending=False)\n",
    "\n",
    "\n",
    "# Resultado\n",
    "print(\"Tabela de Centralidades dos Nodos:\")\n",
    "print(df_centrality_sorted.round(4).head()) "
   ]
  },
  {
   "cell_type": "markdown",
   "id": "3bf5d472",
   "metadata": {},
   "source": [
    "Foram feita algumas configurações para histograma\n",
    "\n",
    "* Histograma\n",
    "  * Configurando o estilo do plot usando seaborn-v0_8-whitegrid\n",
    "  * Configurado histograma para 100 bins , color e edgecolor que se destacam com o estilo escolhido. Utilizando logaritmo no eixo y para melhorar a visualização.\n",
    "  * Adicionando títulos e legendas correspondentes as médias centralizadas.\n",
    "  * Exibindo o gráfico"
   ]
  },
  {
   "cell_type": "code",
   "execution_count": null,
   "id": "b04007d6",
   "metadata": {},
   "outputs": [],
   "source": [
    "# Plot do Histograma\n",
    "# Configurando o estilo do plot\n",
    "plt.style.use('seaborn-v0_8-whitegrid')\n",
    "\n",
    "plt.figure(figsize=(10, 6))\n",
    "plt.hist(df_centrality['Média'], bins=100, color='skyblue', edgecolor='black')\n",
    "\n",
    "# Adicionando títulos e legendas\n",
    "plt.title('Histograma da Média das Centralidades', fontsize=16)\n",
    "plt.xlabel('Média das Centralidades', fontsize=12)\n",
    "plt.ylabel('Frequência (Número de Nodos)', fontsize=12)\n",
    "plt.yscale('log')\n",
    "\n",
    "# Exibindo o gráfico\n",
    "plt.show()\n",
    "\n"
   ]
  },
  {
   "cell_type": "markdown",
   "id": "82e20f91",
   "metadata": {},
   "source": [
    "### Desenhar o subgrafo com os 1000 nodos com maior PageRank. \n",
    "\n",
    "A cor do nodo deve representar o seu valor de PageRank. Usar a rede do item (g).\n",
    "\n",
    "\n",
    "* Convertendo o dicionário para uma Series do pandas para facilitar a ordenação    \n",
    "* Ordenando os nodos pelo valor de PageRank em ordem decrescente e pegando os 1000 primeiros\n",
    "* Criação do Subgrafo\n",
    "  * Criando o subgrafo que contém apenas os nodos da lista top_1000_nodes\n",
    "* Visualização do Subgrafo\n",
    "  * Usando um fundo escuro para destacar as cores\n",
    "* Posição dos nodos para a visualização (pode demorar um pouco para 1000 nodos)\n",
    "* O layout 'spring' trata os nodos como massas e as arestas como molas\n",
    "* Pegando os valores de PageRank apenas para os nodos do subgrafo\n",
    "* Desenhando o grafo\n",
    "  * Usando um mapa de cores vibrante (plasma)\n",
    "* Adicionando uma barra de cores para mapear cores a valores de PageRank\n",
    "* Configurações finais do plot\n",
    "  * Remove os eixos"
   ]
  },
  {
   "cell_type": "code",
   "execution_count": null,
   "id": "8ce4d8f1",
   "metadata": {},
   "outputs": [],
   "source": [
    "\n",
    "# Convertendo o dicionário para uma Series do pandas para facilitar a ordenação\n",
    "pagerank_series = pd.Series(pagerank_centrality)\n",
    "\n",
    "# Ordenando os nodos pelo valor de PageRank em ordem decrescente e pegando os 1000 primeiros\n",
    "top_1000_nodes = pagerank_series.nlargest(1000).index.tolist()\n",
    "print(\"Top 1000 nodos com maior PageRank identificados.\")\n",
    "\n",
    "# --- Criação do Subgrafo ---\n",
    "# Criando o subgrafo que contém apenas os nodos da lista top_1000_nodes\n",
    "S = G.subgraph(top_1000_nodes)\n",
    "print(f\"Subgrafo criado com {S.number_of_nodes()} nodos e {S.number_of_edges()} arestas.\")\n",
    "\n",
    "# --- Visualização do Subgrafo ---\n",
    "print(\"Preparando a visualização do subgrafo...\")\n",
    "plt.style.use('dark_background') # Usando um fundo escuro para destacar as cores\n",
    "fig, ax = plt.subplots(figsize=(16, 16))\n",
    "\n",
    "# Posição dos nodos para a visualização (pode demorar um pouco para 1000 nodos)\n",
    "# O layout 'spring' trata os nodos como massas e as arestas como molas\n",
    "pos = nx.spring_layout(S, seed=42, iterations=50)\n",
    "\n",
    "# Pegando os valores de PageRank apenas para os nodos do subgrafo\n",
    "node_colors = [pagerank_centrality[node] for node in S.nodes()]\n",
    "\n",
    "# Desenhando o grafo\n",
    "nodes = nx.draw_networkx_nodes(\n",
    "    S,\n",
    "    pos,\n",
    "    node_size=50,\n",
    "    node_color=node_colors,\n",
    "    cmap=plt.cm.plasma # Usando um mapa de cores vibrante (plasma)\n",
    ")\n",
    "edges = nx.draw_networkx_edges(S, pos, alpha=0.1, edge_color='gray')\n",
    "\n",
    "# Adicionando uma barra de cores para mapear cores a valores de PageRank\n",
    "sm = plt.cm.ScalarMappable(cmap=plt.cm.plasma, norm=plt.Normalize(vmin=min(node_colors), vmax=max(node_colors)))\n",
    "sm._A = []\n",
    "cbar = plt.colorbar(sm, ax=ax, shrink=0.8)\n",
    "cbar.set_label('Valor de PageRank', rotation=270, labelpad=20, fontsize=14)\n",
    "\n",
    "# Configurações finais do plot\n",
    "ax.set_title('Subgrafo dos 1000 Nodos com Maior PageRank', fontsize=20)\n",
    "plt.axis('off') # Remove os eixos\n",
    "print(\"Plot gerado. Exibindo a imagem...\")\n",
    "plt.show()"
   ]
  }
 ],
 "metadata": {
  "kernelspec": {
   "display_name": "MineracaoGrafo",
   "language": "python",
   "name": "python3"
  },
  "language_info": {
   "codemirror_mode": {
    "name": "ipython",
    "version": 3
   },
   "file_extension": ".py",
   "mimetype": "text/x-python",
   "name": "python",
   "nbconvert_exporter": "python",
   "pygments_lexer": "ipython3",
   "version": "3.13.0"
  }
 },
 "nbformat": 4,
 "nbformat_minor": 5
}
